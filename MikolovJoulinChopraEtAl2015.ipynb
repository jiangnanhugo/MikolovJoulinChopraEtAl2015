{
 "cells": [
  {
   "cell_type": "code",
   "execution_count": null,
   "metadata": {
    "collapsed": true
   },
   "outputs": [],
   "source": [
    "# Structurally Constrained Recurrent Network (SCRN) Model\n",
    "#\n",
    "# This gives an implementation of the SCRN model given in Mikolov et al. 2015, arXiv:1412.7753 [cs.NE], \n",
    "# https://arxiv.org/abs/1412.7753 using Python and Tensorflow.\n",
    "#\n",
    "# This IPython Notebook provides an example of how to call the associated library of Python scripts.  \n",
    "# Mikolov et al. should be consulted to make sure of the correct hyperparameter values.\n",
    "#\n",
    "# Stuart Hagler, 2017"
   ]
  },
  {
   "cell_type": "code",
   "execution_count": null,
   "metadata": {
    "collapsed": false
   },
   "outputs": [],
   "source": [
    "# Imports\n",
    "import math\n",
    "import sys\n",
    "\n",
    "# Local Imports\n",
    "sys.path.insert(0, 'py')\n",
    "from lstm import lstm_graph\n",
    "from read_data import read_data\n",
    "from scrn import scrn_graph\n",
    "from srn import srn_graph\n",
    "from tokens import text_elements_to_tokens"
   ]
  },
  {
   "cell_type": "code",
   "execution_count": null,
   "metadata": {
    "collapsed": false
   },
   "outputs": [],
   "source": [
    "# Flags\n",
    "rnn_flg = 3      # 1 for SRN\n",
    "                 # 2 for LSTM\n",
    "                 # 3 for SCRN\n",
    "usecase_flg = 2  # 1 for predicting letters\n",
    "                 # 2 for predicting words with cutoff for infrequent words"
   ]
  },
  {
   "cell_type": "code",
   "execution_count": null,
   "metadata": {
    "collapsed": true
   },
   "outputs": [],
   "source": [
    "# Network-specific hyperparameters\n",
    "if rnn_flg == 1:\n",
    "    \n",
    "    # Network hyperparameters\n",
    "    hidden_size = 110               # Dimension of the hidden vector\n",
    "    \n",
    "    # Training hyperparameters\n",
    "    num_training_unfoldings = 10    # Number of training unfoldings\n",
    "    state_size = []                 # Dimension of the state vector\n",
    "    \n",
    "elif rnn_flg == 2:\n",
    "    \n",
    "    # Network hyperparameters\n",
    "    hidden_size = 110               # Dimension of the hidden vector\n",
    "    state_size = hidden_size        # Dimension of the state vector\n",
    "    \n",
    "    # Training hyperparameters\n",
    "    num_training_unfoldings = 10    # Number of training unfoldings\n",
    "    \n",
    "elif rnn_flg == 3:\n",
    "    \n",
    "    # Network hyperparameters\n",
    "    alpha = 0.95                    #\n",
    "    hidden_size = 100               # Dimension of the hidden vector\n",
    "    state_size = 10                 # Dimension of the state vector\n",
    "\n",
    "    # Training hyperparameters\n",
    "    num_training_unfoldings = 50    # Number of training unfoldings\n",
    "    \n",
    "# General network hyperparameters\n",
    "word_frequency_cutoff = 50          # Cutoff for infrequent words for usecase_flg = 2\n",
    "\n",
    "# General training hyperparameters\n",
    "base_training_batch_size = 32       # Training batch size across all towers\n",
    "clip_norm = 1.25                    # Norm for gradient clipping\n",
    "learning_decay = 1/1.5              # Multiplier to decay the learn rate when required\n",
    "learning_rate = 0.05                # Initial learning rate\n",
    "momentum = 0.9                      # Momentum for training\n",
    "num_epochs = 50                     # Total number of epochs to run the algorithm\n",
    "num_validation_unfoldings = 50      # Number of validation unfoldings\n",
    "optimization_frequency = 5          # Number of unfoldings before optimization step\n",
    "summary_frequency = 500             # Summary information is displayed after training this many batches\n",
    "validation_batch_size = 32          # Validation batch size for each tower\n",
    "\n",
    "# Cluster\n",
    "num_gpus = 1                        # Number of GPUs available\n",
    "\n",
    "# Logging\n",
    "logdir = '/tmp/tensorflow/log/'\n",
    "\n",
    "# Data file\n",
    "filename = 'data/text8.zip'"
   ]
  },
  {
   "cell_type": "code",
   "execution_count": null,
   "metadata": {
    "collapsed": false
   },
   "outputs": [],
   "source": [
    "# Prepare training, validation, test data sets\n",
    "num_towers = num_gpus\n",
    "training_batch_size = base_training_batch_size // num_towers\n",
    "raw_data = read_data(usecase_flg, filename)\n",
    "data, dictionary, reverse_dictionary, vocabulary_size = text_elements_to_tokens(usecase_flg, raw_data, \n",
    "                                                                                word_frequency_cutoff)\n",
    "training_size = math.floor((9/11)*len(raw_data)/num_towers)\n",
    "validation_size = math.floor((1/11)*len(raw_data)/num_towers)\n",
    "test_size = math.floor((1/11)*len(raw_data)/num_towers)\n",
    "training_text = []\n",
    "validation_text = []\n",
    "test_text = []\n",
    "for i in range(num_towers):\n",
    "    training_text.append(data[i*training_size:(i+1)*training_size])\n",
    "    validation_text.append(data[num_towers*training_size + i*validation_size: \\\n",
    "                                num_towers*training_size + (i+1)*validation_size])\n",
    "    test_text.append(data[num_towers*(training_size + validation_size) + i*test_size: \\\n",
    "                          num_towers*(training_size + validation_size) + (i+1)*test_size])"
   ]
  },
  {
   "cell_type": "code",
   "execution_count": null,
   "metadata": {
    "collapsed": false
   },
   "outputs": [],
   "source": [
    "print('Vocabulary Size: %d' % vocabulary_size)\n",
    "\n",
    "# Initialize graph\n",
    "if rnn_flg == 1:\n",
    "    # Use SRN\n",
    "    graph = srn_graph(num_gpus, hidden_size, state_size, vocabulary_size, num_training_unfoldings, \n",
    "                      num_validation_unfoldings, training_batch_size, validation_batch_size, optimization_frequency)\n",
    "elif rnn_flg == 2:\n",
    "    # Use LSTM\n",
    "    graph = lstm_graph(num_gpus, hidden_size, state_size, vocabulary_size, num_training_unfoldings, \n",
    "                       num_validation_unfoldings, training_batch_size, validation_batch_size, optimization_frequency)\n",
    "elif rnn_flg == 3:\n",
    "    # Use SCRN\n",
    "    graph = scrn_graph(num_gpus, alpha, hidden_size, state_size, vocabulary_size, num_training_unfoldings, \n",
    "                       num_validation_unfoldings, training_batch_size, validation_batch_size, optimization_frequency)\n",
    "    \n",
    "# Train graph\n",
    "graph.train(learning_rate, learning_decay, momentum, clip_norm, num_epochs, summary_frequency, training_text, \n",
    "            validation_text, logdir)"
   ]
  }
 ],
 "metadata": {
  "kernelspec": {
   "display_name": "Python 3",
   "language": "python",
   "name": "python3"
  },
  "language_info": {
   "codemirror_mode": {
    "name": "ipython",
    "version": 3
   },
   "file_extension": ".py",
   "mimetype": "text/x-python",
   "name": "python",
   "nbconvert_exporter": "python",
   "pygments_lexer": "ipython3",
   "version": "3.5.2"
  }
 },
 "nbformat": 4,
 "nbformat_minor": 2
}
